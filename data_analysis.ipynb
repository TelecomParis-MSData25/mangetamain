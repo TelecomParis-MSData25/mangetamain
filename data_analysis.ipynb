{
 "cells": [
  {
   "cell_type": "code",
   "execution_count": 4,
   "id": "12d0bc13",
   "metadata": {},
   "outputs": [
    {
     "name": "stdout",
     "output_type": "stream",
     "text": [
      "Dataset URL: https://www.kaggle.com/datasets/shuyangli94/food-com-recipes-and-user-interactions\n",
      "License(s): copyright-authors\n",
      "Downloading food-com-recipes-and-user-interactions.zip to /Users/gregoirepetit/mangetamain\n",
      "Downloading food-com-recipes-and-user-interactions.zip to /Users/gregoirepetit/mangetamain\n"
     ]
    },
    {
     "name": "stdout",
     "output_type": "stream",
     "text": [
      "Dataset URL: https://www.kaggle.com/datasets/shuyangli94/food-com-recipes-and-user-interactions\n",
      "License(s): copyright-authors\n",
      "Downloading food-com-recipes-and-user-interactions.zip to /Users/gregoirepetit/mangetamain\n",
      "Downloading food-com-recipes-and-user-interactions.zip to /Users/gregoirepetit/mangetamain\n"
     ]
    },
    {
     "name": "stderr",
     "output_type": "stream",
     "text": [
      "100%|██████████| 267M/267M [00:00<00:00, 1.46GB/s]\n"
     ]
    },
    {
     "name": "stdout",
     "output_type": "stream",
     "text": [
      "Dataset URL: https://www.kaggle.com/datasets/shuyangli94/food-com-recipes-and-user-interactions\n",
      "License(s): copyright-authors\n",
      "Downloading food-com-recipes-and-user-interactions.zip to /Users/gregoirepetit/mangetamain\n",
      "Downloading food-com-recipes-and-user-interactions.zip to /Users/gregoirepetit/mangetamain\n"
     ]
    },
    {
     "name": "stderr",
     "output_type": "stream",
     "text": [
      "100%|██████████| 267M/267M [00:00<00:00, 1.46GB/s]\n"
     ]
    },
    {
     "name": "stdout",
     "output_type": "stream",
     "text": [
      "\n"
     ]
    },
    {
     "name": "stdout",
     "output_type": "stream",
     "text": [
      "Dataset URL: https://www.kaggle.com/datasets/shuyangli94/food-com-recipes-and-user-interactions\n",
      "License(s): copyright-authors\n",
      "Downloading food-com-recipes-and-user-interactions.zip to /Users/gregoirepetit/mangetamain\n",
      "Downloading food-com-recipes-and-user-interactions.zip to /Users/gregoirepetit/mangetamain\n"
     ]
    },
    {
     "name": "stderr",
     "output_type": "stream",
     "text": [
      "100%|██████████| 267M/267M [00:00<00:00, 1.46GB/s]\n"
     ]
    },
    {
     "name": "stdout",
     "output_type": "stream",
     "text": [
      "\n"
     ]
    },
    {
     "data": {
      "text/plain": [
       "0"
      ]
     },
     "execution_count": 4,
     "metadata": {},
     "output_type": "execute_result"
    }
   ],
   "source": [
    "# Téléchargement du dataset Food.com Recipes\n",
    "import os\n",
    "os.system('kaggle datasets download -d shuyangli94/food-com-recipes-and-user-interactions --unzip')"
   ]
  },
  {
   "cell_type": "code",
   "execution_count": null,
   "id": "9882b71f",
   "metadata": {},
   "outputs": [],
   "source": [
    "# Import des librairies et chargement du dataset\n",
    "import pandas as pd\n",
    "import numpy as np\n",
    "import matplotlib.pyplot as plt\n",
    "import seaborn as sns\n",
    "\n",
    "# Chargement des datasets principaux\n",
    "recipes = pd.read_csv('RAW_recipes.csv')\n",
    "interactions = pd.read_csv('RAW_interactions.csv')"
   ]
  },
  {
   "cell_type": "code",
   "execution_count": 5,
   "id": "d405e49c",
   "metadata": {},
   "outputs": [
    {
     "data": {
      "application/vnd.microsoft.datawrangler.viewer.v0+json": {
       "columns": [
        {
         "name": "index",
         "rawType": "object",
         "type": "string"
        },
        {
         "name": "id",
         "rawType": "float64",
         "type": "float"
        },
        {
         "name": "minutes",
         "rawType": "float64",
         "type": "float"
        },
        {
         "name": "contributor_id",
         "rawType": "float64",
         "type": "float"
        },
        {
         "name": "n_steps",
         "rawType": "float64",
         "type": "float"
        },
        {
         "name": "n_ingredients",
         "rawType": "float64",
         "type": "float"
        }
       ],
       "ref": "f59c4622-7792-4ffa-8e10-766d3ccf2cbc",
       "rows": [
        [
         "count",
         "231637.0",
         "231637.0",
         "231637.0",
         "231637.0",
         "231637.0"
        ],
        [
         "mean",
         "222014.70898431598",
         "9398.546009488984",
         "5534885.1138376",
         "9.7654994668382",
         "9.051153313158087"
        ],
        [
         "std",
         "141206.6356257968",
         "4461963.03886045",
         "99791408.2139015",
         "5.995128012400969",
         "3.734795735364281"
        ],
        [
         "min",
         "38.0",
         "0.0",
         "27.0",
         "0.0",
         "1.0"
        ],
        [
         "25%",
         "99944.0",
         "20.0",
         "56905.0",
         "6.0",
         "6.0"
        ],
        [
         "50%",
         "207249.0",
         "40.0",
         "173614.0",
         "9.0",
         "9.0"
        ],
        [
         "75%",
         "333816.0",
         "65.0",
         "398275.0",
         "12.0",
         "11.0"
        ],
        [
         "max",
         "537716.0",
         "2147483647.0",
         "2002289981.0",
         "145.0",
         "43.0"
        ]
       ],
       "shape": {
        "columns": 5,
        "rows": 8
       }
      },
      "text/html": [
       "<div>\n",
       "<style scoped>\n",
       "    .dataframe tbody tr th:only-of-type {\n",
       "        vertical-align: middle;\n",
       "    }\n",
       "\n",
       "    .dataframe tbody tr th {\n",
       "        vertical-align: top;\n",
       "    }\n",
       "\n",
       "    .dataframe thead th {\n",
       "        text-align: right;\n",
       "    }\n",
       "</style>\n",
       "<table border=\"1\" class=\"dataframe\">\n",
       "  <thead>\n",
       "    <tr style=\"text-align: right;\">\n",
       "      <th></th>\n",
       "      <th>id</th>\n",
       "      <th>minutes</th>\n",
       "      <th>contributor_id</th>\n",
       "      <th>n_steps</th>\n",
       "      <th>n_ingredients</th>\n",
       "    </tr>\n",
       "  </thead>\n",
       "  <tbody>\n",
       "    <tr>\n",
       "      <th>count</th>\n",
       "      <td>231637.000000</td>\n",
       "      <td>2.316370e+05</td>\n",
       "      <td>2.316370e+05</td>\n",
       "      <td>231637.000000</td>\n",
       "      <td>231637.000000</td>\n",
       "    </tr>\n",
       "    <tr>\n",
       "      <th>mean</th>\n",
       "      <td>222014.708984</td>\n",
       "      <td>9.398546e+03</td>\n",
       "      <td>5.534885e+06</td>\n",
       "      <td>9.765499</td>\n",
       "      <td>9.051153</td>\n",
       "    </tr>\n",
       "    <tr>\n",
       "      <th>std</th>\n",
       "      <td>141206.635626</td>\n",
       "      <td>4.461963e+06</td>\n",
       "      <td>9.979141e+07</td>\n",
       "      <td>5.995128</td>\n",
       "      <td>3.734796</td>\n",
       "    </tr>\n",
       "    <tr>\n",
       "      <th>min</th>\n",
       "      <td>38.000000</td>\n",
       "      <td>0.000000e+00</td>\n",
       "      <td>2.700000e+01</td>\n",
       "      <td>0.000000</td>\n",
       "      <td>1.000000</td>\n",
       "    </tr>\n",
       "    <tr>\n",
       "      <th>25%</th>\n",
       "      <td>99944.000000</td>\n",
       "      <td>2.000000e+01</td>\n",
       "      <td>5.690500e+04</td>\n",
       "      <td>6.000000</td>\n",
       "      <td>6.000000</td>\n",
       "    </tr>\n",
       "    <tr>\n",
       "      <th>50%</th>\n",
       "      <td>207249.000000</td>\n",
       "      <td>4.000000e+01</td>\n",
       "      <td>1.736140e+05</td>\n",
       "      <td>9.000000</td>\n",
       "      <td>9.000000</td>\n",
       "    </tr>\n",
       "    <tr>\n",
       "      <th>75%</th>\n",
       "      <td>333816.000000</td>\n",
       "      <td>6.500000e+01</td>\n",
       "      <td>3.982750e+05</td>\n",
       "      <td>12.000000</td>\n",
       "      <td>11.000000</td>\n",
       "    </tr>\n",
       "    <tr>\n",
       "      <th>max</th>\n",
       "      <td>537716.000000</td>\n",
       "      <td>2.147484e+09</td>\n",
       "      <td>2.002290e+09</td>\n",
       "      <td>145.000000</td>\n",
       "      <td>43.000000</td>\n",
       "    </tr>\n",
       "  </tbody>\n",
       "</table>\n",
       "</div>"
      ],
      "text/plain": [
       "                  id       minutes  contributor_id        n_steps  \\\n",
       "count  231637.000000  2.316370e+05    2.316370e+05  231637.000000   \n",
       "mean   222014.708984  9.398546e+03    5.534885e+06       9.765499   \n",
       "std    141206.635626  4.461963e+06    9.979141e+07       5.995128   \n",
       "min        38.000000  0.000000e+00    2.700000e+01       0.000000   \n",
       "25%     99944.000000  2.000000e+01    5.690500e+04       6.000000   \n",
       "50%    207249.000000  4.000000e+01    1.736140e+05       9.000000   \n",
       "75%    333816.000000  6.500000e+01    3.982750e+05      12.000000   \n",
       "max    537716.000000  2.147484e+09    2.002290e+09     145.000000   \n",
       "\n",
       "       n_ingredients  \n",
       "count  231637.000000  \n",
       "mean        9.051153  \n",
       "std         3.734796  \n",
       "min         1.000000  \n",
       "25%         6.000000  \n",
       "50%         9.000000  \n",
       "75%        11.000000  \n",
       "max        43.000000  "
      ]
     },
     "execution_count": 5,
     "metadata": {},
     "output_type": "execute_result"
    }
   ],
   "source": [
    "recipes.describe()"
   ]
  },
  {
   "cell_type": "code",
   "execution_count": 6,
   "id": "6d259f4d",
   "metadata": {},
   "outputs": [
    {
     "data": {
      "application/vnd.microsoft.datawrangler.viewer.v0+json": {
       "columns": [
        {
         "name": "index",
         "rawType": "object",
         "type": "string"
        },
        {
         "name": "user_id",
         "rawType": "float64",
         "type": "float"
        },
        {
         "name": "recipe_id",
         "rawType": "float64",
         "type": "float"
        },
        {
         "name": "rating",
         "rawType": "float64",
         "type": "float"
        }
       ],
       "ref": "2d01092b-db3a-480f-983a-d2184e29fab0",
       "rows": [
        [
         "count",
         "1132367.0",
         "1132367.0",
         "1132367.0"
        ],
        [
         "mean",
         "138429067.4306519",
         "160897.20816396098",
         "4.411016039852804"
        ],
        [
         "std",
         "501426863.6837836",
         "130398.71963876246",
         "1.2647518406059137"
        ],
        [
         "min",
         "1533.0",
         "38.0",
         "0.0"
        ],
        [
         "25%",
         "135470.0",
         "54257.0",
         "4.0"
        ],
        [
         "50%",
         "330937.0",
         "120547.0",
         "5.0"
        ],
        [
         "75%",
         "804550.0",
         "243852.0",
         "5.0"
        ],
        [
         "max",
         "2002372706.0",
         "537716.0",
         "5.0"
        ]
       ],
       "shape": {
        "columns": 3,
        "rows": 8
       }
      },
      "text/html": [
       "<div>\n",
       "<style scoped>\n",
       "    .dataframe tbody tr th:only-of-type {\n",
       "        vertical-align: middle;\n",
       "    }\n",
       "\n",
       "    .dataframe tbody tr th {\n",
       "        vertical-align: top;\n",
       "    }\n",
       "\n",
       "    .dataframe thead th {\n",
       "        text-align: right;\n",
       "    }\n",
       "</style>\n",
       "<table border=\"1\" class=\"dataframe\">\n",
       "  <thead>\n",
       "    <tr style=\"text-align: right;\">\n",
       "      <th></th>\n",
       "      <th>user_id</th>\n",
       "      <th>recipe_id</th>\n",
       "      <th>rating</th>\n",
       "    </tr>\n",
       "  </thead>\n",
       "  <tbody>\n",
       "    <tr>\n",
       "      <th>count</th>\n",
       "      <td>1.132367e+06</td>\n",
       "      <td>1.132367e+06</td>\n",
       "      <td>1.132367e+06</td>\n",
       "    </tr>\n",
       "    <tr>\n",
       "      <th>mean</th>\n",
       "      <td>1.384291e+08</td>\n",
       "      <td>1.608972e+05</td>\n",
       "      <td>4.411016e+00</td>\n",
       "    </tr>\n",
       "    <tr>\n",
       "      <th>std</th>\n",
       "      <td>5.014269e+08</td>\n",
       "      <td>1.303987e+05</td>\n",
       "      <td>1.264752e+00</td>\n",
       "    </tr>\n",
       "    <tr>\n",
       "      <th>min</th>\n",
       "      <td>1.533000e+03</td>\n",
       "      <td>3.800000e+01</td>\n",
       "      <td>0.000000e+00</td>\n",
       "    </tr>\n",
       "    <tr>\n",
       "      <th>25%</th>\n",
       "      <td>1.354700e+05</td>\n",
       "      <td>5.425700e+04</td>\n",
       "      <td>4.000000e+00</td>\n",
       "    </tr>\n",
       "    <tr>\n",
       "      <th>50%</th>\n",
       "      <td>3.309370e+05</td>\n",
       "      <td>1.205470e+05</td>\n",
       "      <td>5.000000e+00</td>\n",
       "    </tr>\n",
       "    <tr>\n",
       "      <th>75%</th>\n",
       "      <td>8.045500e+05</td>\n",
       "      <td>2.438520e+05</td>\n",
       "      <td>5.000000e+00</td>\n",
       "    </tr>\n",
       "    <tr>\n",
       "      <th>max</th>\n",
       "      <td>2.002373e+09</td>\n",
       "      <td>5.377160e+05</td>\n",
       "      <td>5.000000e+00</td>\n",
       "    </tr>\n",
       "  </tbody>\n",
       "</table>\n",
       "</div>"
      ],
      "text/plain": [
       "            user_id     recipe_id        rating\n",
       "count  1.132367e+06  1.132367e+06  1.132367e+06\n",
       "mean   1.384291e+08  1.608972e+05  4.411016e+00\n",
       "std    5.014269e+08  1.303987e+05  1.264752e+00\n",
       "min    1.533000e+03  3.800000e+01  0.000000e+00\n",
       "25%    1.354700e+05  5.425700e+04  4.000000e+00\n",
       "50%    3.309370e+05  1.205470e+05  5.000000e+00\n",
       "75%    8.045500e+05  2.438520e+05  5.000000e+00\n",
       "max    2.002373e+09  5.377160e+05  5.000000e+00"
      ]
     },
     "execution_count": 6,
     "metadata": {},
     "output_type": "execute_result"
    }
   ],
   "source": [
    "interactions.describe()"
   ]
  }
 ],
 "metadata": {
  "kernelspec": {
   "display_name": "mangetamain",
   "language": "python",
   "name": "python3"
  },
  "language_info": {
   "codemirror_mode": {
    "name": "ipython",
    "version": 3
   },
   "file_extension": ".py",
   "mimetype": "text/x-python",
   "name": "python",
   "nbconvert_exporter": "python",
   "pygments_lexer": "ipython3",
   "version": "3.12.1"
  }
 },
 "nbformat": 4,
 "nbformat_minor": 5
}
