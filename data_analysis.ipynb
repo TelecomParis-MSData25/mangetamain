{
 "cells": [
  {
   "cell_type": "code",
   "execution_count": null,
   "id": "d47b2c9e",
   "metadata": {},
   "outputs": [],
   "source": [
    "import os\n",
    "\n",
    "# Assurez-vous d'avoir installé la bibliothèque kaggle et d'avoir configuré votre clé API Kaggle\n",
    "# pip install kaggle\n",
    "# Placez votre fichier kaggle.json dans ~/.kaggle/ ou C:\\Users\\<User>\\.kaggle\\\n",
    "\n",
    "os.system('kaggle datasets download -d shuyangli94/food-com-recipes-and-user-interactions --unzip')"
   ]
  }
 ],
 "metadata": {
  "kernelspec": {
   "display_name": ".venv",
   "language": "python",
   "name": "python3"
  },
  "language_info": {
   "name": "python",
   "version": "3.12.3"
  }
 },
 "nbformat": 4,
 "nbformat_minor": 5
}
