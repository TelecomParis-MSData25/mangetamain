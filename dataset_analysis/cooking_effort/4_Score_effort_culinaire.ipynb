{
 "cells": [
  {
   "cell_type": "markdown",
   "id": "5d17163e",
   "metadata": {},
   "source": [
    "A FAIRE :\n",
    "- Calcul du score d'effort culinaire\n",
    "- Comparer avec la popularité\n",
    "- Faire des logs à chaque fois que le dataset est modifié (plutôt que d'en avoir 7 en avoir qu'un que l'on remplace à chaque fois)"
   ]
  },
  {
   "cell_type": "code",
   "execution_count": null,
   "id": "8e70b720",
   "metadata": {},
   "outputs": [],
   "source": [
    "# Charger le nouveau dataset\n",
    "recipe = pd.read_csv(\"recipe/7_recipe_n_ingredients_category.csv\")\n",
    "print(recipe.columns)\n",
    "print(recipe.shape)"
   ]
  },
  {
   "cell_type": "code",
   "execution_count": null,
   "id": "03d85c14",
   "metadata": {},
   "outputs": [],
   "source": [
    "Facile - modéré - Difficile"
   ]
  },
  {
   "cell_type": "markdown",
   "id": "a06dd707",
   "metadata": {},
   "source": [
    "Exemple de code pour le score d'effort avec les variables et les poids donnés et code suivant pour la création d'un variable qualitative"
   ]
  },
  {
   "cell_type": "code",
   "execution_count": null,
   "id": "259cd984",
   "metadata": {},
   "outputs": [],
   "source": [
    "# Calcul du Score d'Effort Culinaire\n",
    "from sklearn.preprocessing import MinMaxScaler\n",
    "\n",
    "# Normaliser les 4 dimensions sur une échelle 0-1\n",
    "scaler = MinMaxScaler()\n",
    "variables_to_scale = ['log_minutes', 'n_steps', 'avg_words_per_step', 'log_n_ingredients']\n",
    "\n",
    "for var in variables_to_scale:\n",
    "    recipe[f'{var}_scaled'] = scaler.fit_transform(recipe[[var]])\n",
    "\n",
    "# Poids pour chaque composante (ajustables)\n",
    "weights = {\n",
    "    'time_weight': 0.3,        # 30% temps\n",
    "    'steps_weight': 0.25,      # 25% étapes \n",
    "    'complexity_weight': 0.2,  # 20% complexité instructions\n",
    "    'ingredients_weight': 0.25 # 25% ingrédients\n",
    "}\n",
    "\n",
    "# Calculer le score composite (0-100)\n",
    "recipe['effort_score'] = (\n",
    "    weights['time_weight'] * recipe['log_minutes_scaled'] +\n",
    "    weights['steps_weight'] * recipe['n_steps_scaled'] +\n",
    "    weights['complexity_weight'] * recipe['avg_words_per_step_scaled'] +\n",
    "    weights['ingredients_weight'] * recipe['log_n_ingredients_scaled']\n",
    ") * 100\n",
    "\n",
    "print(\"Score d'effort culinaire calculé\")\n",
    "print(f\"Score moyen: {recipe['effort_score'].mean():.1f}/100\")\n",
    "print(f\"Écart-type: {recipe['effort_score'].std():.1f}\")\n",
    "print(f\"Min-Max: {recipe['effort_score'].min():.1f} - {recipe['effort_score'].max():.1f}\")\n",
    "print(\"=\"*50)"
   ]
  },
  {
   "cell_type": "code",
   "execution_count": null,
   "id": "9cc458a9",
   "metadata": {},
   "outputs": [],
   "source": [
    "# Catégoriser le score d'effort\n",
    "def categorize_effort(score):\n",
    "    if score <= 15:\n",
    "        return 'Très Facile'\n",
    "    elif score <= 20:\n",
    "        return 'Facile'\n",
    "    elif score <= 25:\n",
    "        return 'Modéré'\n",
    "    elif score <= 30:\n",
    "        return 'Difficile'\n",
    "    else:\n",
    "        return 'Très Difficile'\n",
    "\n",
    "recipe['effort_category'] = recipe['effort_score'].apply(categorize_effort)\n",
    "\n",
    "print(\"Catégories d'effort créées\")\n",
    "effort_dist = recipe['effort_category'].value_counts()\n",
    "for category, count in effort_dist.items():\n",
    "    percentage = (count / len(recipe)) * 100\n",
    "    print(f\"{category}: {count:,} recettes ({percentage:.1f}%)\")\n",
    "print(\"=\"*50)"
   ]
  }
 ],
 "metadata": {
  "language_info": {
   "name": "python"
  }
 },
 "nbformat": 4,
 "nbformat_minor": 5
}
