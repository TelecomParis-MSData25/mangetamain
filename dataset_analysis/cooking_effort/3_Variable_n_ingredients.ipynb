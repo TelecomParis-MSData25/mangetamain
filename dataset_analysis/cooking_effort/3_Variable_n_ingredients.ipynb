{
 "cells": [
  {
   "cell_type": "code",
   "execution_count": 1,
   "id": "492ac287",
   "metadata": {},
   "outputs": [],
   "source": [
    "import numpy as np \n",
    "import matplotlib.pyplot as plt \n",
    "import pandas as pd \n",
    "import seaborn as sns \n",
    "import ast\n",
    "import re"
   ]
  },
  {
   "cell_type": "code",
   "execution_count": null,
   "id": "5f93f3fd",
   "metadata": {},
   "outputs": [
    {
     "name": "stdout",
     "output_type": "stream",
     "text": [
      "Index(['id', 'n_ingredients', 'n_steps', 'minutes', 'steps',\n",
      "       'avg_words_per_step'],\n",
      "      dtype='object')\n",
      "(221813, 6)\n"
     ]
    }
   ],
   "source": [
    "# Charger le nouveau dataset\n",
    "recipe = pd.read_csv(\"recipe/6_recipe_with_steps_complexity.csv\")\n",
    "print(recipe.columns)\n",
    "print(recipe.shape)"
   ]
  },
  {
   "cell_type": "code",
   "execution_count": 4,
   "id": "250add12",
   "metadata": {},
   "outputs": [
    {
     "data": {
      "image/png": "[encoded data removed]",
      "text/plain": [
       "<Figure size 500x300 with 1 Axes>"
      ]
     },
     "metadata": {},
     "output_type": "display_data"
    }
   ],
   "source": [
    "# Afficher la boîte à moustaches pour la variable 'n_ingredients'\n",
    "plt.figure(figsize=(5, 3))\n",
    "sns.boxplot(x='n_ingredients', data=recipe)\n",
    "plt.title(\"Boxplot du nombre d'ingrédients\")\n",
    "plt.xlabel(\"n_ingredients\")\n",
    "plt.show()"
   ]
  },
  {
   "cell_type": "markdown",
   "id": "a03d0fae",
   "metadata": {},
   "source": [
    "Remarque : \n",
    "- Beaucoup de recettes ont plus de 20 ingrédients."
   ]
  },
  {
   "cell_type": "code",
   "execution_count": null,
   "id": "dd331676",
   "metadata": {},
   "outputs": [
    {
     "name": "stdout",
     "output_type": "stream",
     "text": [
      "n_ingredients min: 1\n",
      "n_ingredients max: 43\n",
      "Nombre de recettes avec 1 n_ingredients: 25\n",
      "Ingrédient d'une recette avec 1 n_ingredients: ['apple cider']\n",
      "Instructions d'une seule recette avec 1 n_ingredients:\n",
      "['in 6-8 quart stock pan , measure out 2 cups of apple cider', 'this will be approximately how much you will end up with when finished', 'pour in the remaining apple cider', 'if it is kept on an unrefrigerated store shelf , do not use it', 'place on stove top on medium heat and bring to a low boil', 'cook over medium approximately 2-1 / 2 hours', 'stir occasionally', 'as the cider begins to get close to desired level of reduction , the bubbles will get smaller & the boil will look somewhat foamy', 'youll need to reduce the heat slightly at this point so that it doesnt boil up or scorch', 'remove from stove and let cool', 'cider should be thick - almost like corn syrup or molasses when done', 'pour into covered container of your choice', 'store in refrigerator and use as desired']\n"
     ]
    }
   ],
   "source": [
    "# Afficher le n_ingredients minimum, maximum\n",
    "print(\"n_ingredients min:\", recipe['n_ingredients'].min())\n",
    "print(\"n_ingredients max:\", recipe['n_ingredients'].max())\n",
    "# Afficher le nombre de recettes avec 0 n_ingredients\n",
    "print(\"Nombre de recettes avec 1 n_ingredients:\", recipe[recipe['n_ingredients'] == 1].shape[0])\n",
    "# Afficher l'ingrédient d'une recette avec 1 n_ingredients\n",
    "print(\"Ingrédient d'une recette avec 1 n_ingredients:\", recipe[recipe['n_ingredients'] == 1]['ingredients'].iloc[0])\n",
    "# Afficher les instructions d'une seule recette avec 1 n_ingredients\n",
    "recette_1_ingredient = recipe[recipe['n_ingredients'] == 1]['steps'].iloc[0]\n",
    "print(\"Instructions d'une seule recette avec 1 n_ingredients:\")\n",
    "print(recette_1_ingredient)"
   ]
  },
  {
   "cell_type": "markdown",
   "id": "c5af1a31",
   "metadata": {},
   "source": [
    "Nous avons décider d'enlever aucun outliers. Ces recettes ne semblent pasêtre des erreurs."
   ]
  },
  {
   "cell_type": "markdown",
   "id": "26f12279",
   "metadata": {},
   "source": [
    "Nous pouvons proposer une nouvelle variable qui catégorise le nombre d'ingrédients par recette en : Petit, Moyen, Grand.\n",
    "\n",
    "Nous allons pour faire cette catégorisation nous appuyer sur les percentiles (ce qui permet de diviser les données en portions égales basées sur la distribution réelle). Ou sur notre choix intuitif."
   ]
  },
  {
   "cell_type": "markdown",
   "id": "625bd53f",
   "metadata": {},
   "source": [
    "Choix intuitif :"
   ]
  },
  {
   "cell_type": "code",
   "execution_count": null,
   "id": "21c25b60",
   "metadata": {},
   "outputs": [],
   "source": [
    "# Création d'une variable recette Petit, Moyen, Grand\n",
    "\n",
    "def categorize_prep_time(n_ingredients):\n",
    "    if n_ingredients <= 5:\n",
    "        return 'Petit'\n",
    "    elif 6 <= n_ingredients <= 10:\n",
    "        return 'Moyen'\n",
    "    else:\n",
    "        return 'Grand'\n",
    "# Ajout de la nouvelle variable au dataset\n",
    "recipe['category_n_ingredient'] = recipe['n_ingredients'].apply(categorize_prep_time)"
   ]
  },
  {
   "cell_type": "markdown",
   "id": "5c99c214",
   "metadata": {},
   "source": [
    "Choix percentiles :"
   ]
  },
  {
   "cell_type": "code",
   "execution_count": null,
   "id": "e7a14f50",
   "metadata": {},
   "outputs": [],
   "source": [
    "# Catégorisation basée sur les percentiles\n",
    "def categorize_n_ingredients_percentiles(recipe_data):\n",
    "    q33 = recipe_data['n_ingredients'].quantile(0.33)\n",
    "    q67 = recipe_data['n_ingredients'].quantile(0.67)\n",
    "    \n",
    "    def assign_category(minutes):\n",
    "        if minutes < q33:\n",
    "            return 'Petit'\n",
    "        elif q33 <= minutes < q67:\n",
    "            return 'Moyen'\n",
    "        else:\n",
    "            return 'Grand'\n",
    "    \n",
    "    recipe_data['category_n_ingredients_balanced'] = recipe_data['n_ingredients'].apply(assign_category)\n",
    "\n",
    "    print(f\"   • Petit: < {q33:.0f} n_ingredients\")\n",
    "    print(f\"   • Moyen: {q33:.0f} - {q67:.0f} n_ingredients\")\n",
    "    print(f\"   • Grand: > {q67:.0f} n_ingredients\")\n",
    "    \n",
    "    return recipe_data"
   ]
  },
  {
   "cell_type": "code",
   "execution_count": null,
   "id": "b52c86a3",
   "metadata": {},
   "outputs": [],
   "source": [
    "# Sauvegarder le nouveau dataset\n",
    "#recipe = categorize_n_ingredients_percentiles(recipe)\n",
    "#recipe.to_csv(\"recipe/7_recipe_n_ingredients_category.csv\", index=False)"
   ]
  },
  {
   "cell_type": "code",
   "execution_count": null,
   "id": "17266205",
   "metadata": {},
   "outputs": [
    {
     "name": "stdout",
     "output_type": "stream",
     "text": [
      "count    221813.000000\n",
      "mean          9.037392\n",
      "std           3.720589\n",
      "min           1.000000\n",
      "25%           6.000000\n",
      "50%           9.000000\n",
      "75%          11.000000\n",
      "max          43.000000\n",
      "Name: n_ingredients, dtype: float64\n",
      "Skewness :  0.7644668264466581\n",
      "Kurtosis :  1.1593912208919543\n"
     ]
    }
   ],
   "source": [
    "# Calcul de statistiques descriptives de la colonne 'minutes'\n",
    "print(recipe['n_ingredients'].describe())\n",
    "print(\"Skewness : \", recipe['n_ingredients'].skew())\n",
    "print(\"Kurtosis : \", recipe['n_ingredients'].kurt())\n",
    "# Vérifier s'il y a besoin de faire un log pour calculer le score d'effort"
   ]
  }
 ],
 "metadata": {
  "kernelspec": {
   "display_name": "Python 3",
   "language": "python",
   "name": "python3"
  },
  "language_info": {
   "codemirror_mode": {
    "name": "ipython",
    "version": 3
   },
   "file_extension": ".py",
   "mimetype": "text/x-python",
   "name": "python",
   "nbconvert_exporter": "python",
   "pygments_lexer": "ipython3",
   "version": "3.11.9"
  }
 },
 "nbformat": 4,
 "nbformat_minor": 5
}
