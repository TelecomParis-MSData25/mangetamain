{
 "cells": [
  {
   "cell_type": "code",
   "execution_count": 1,
   "id": "f124364b",
   "metadata": {},
   "outputs": [],
   "source": [
    "import numpy as np \n",
    "import matplotlib.pyplot as plt \n",
    "import pandas as pd \n",
    "import seaborn as sns \n",
    "import ast\n",
    "import re"
   ]
  },
  {
   "cell_type": "code",
   "execution_count": null,
   "id": "61db0ce5",
   "metadata": {},
   "outputs": [
    {
     "name": "stdout",
     "output_type": "stream",
     "text": [
      "Index(['id', 'n_ingredients', 'n_steps', 'minutes', 'steps'], dtype='object')\n",
      "(221814, 5)\n"
     ]
    }
   ],
   "source": [
    "# Charger le nouveau dataset\n",
    "recipe = pd.read_csv(\"recipe/4_recipe_minutes_category.csv\")\n",
    "print(recipe.columns)\n",
    "print(recipe.shape)"
   ]
  },
  {
   "cell_type": "markdown",
   "id": "8a759a65",
   "metadata": {},
   "source": [
    "Variable n_steps"
   ]
  },
  {
   "cell_type": "code",
   "execution_count": 4,
   "id": "7304b1dd",
   "metadata": {},
   "outputs": [
    {
     "data": {
      "image/png": "[encoded data removed]",
      "text/plain": [
       "<Figure size 500x300 with 1 Axes>"
      ]
     },
     "metadata": {},
     "output_type": "display_data"
    }
   ],
   "source": [
    "# Afficher la boîte à moustaches pour la variable 'n_steps'\n",
    "plt.figure(figsize=(5, 3))\n",
    "sns.boxplot(x='n_steps', data=recipe)\n",
    "plt.title(\"Boxplot du nombre d'étapes\")\n",
    "plt.xlabel(\"n_steps\")\n",
    "plt.show()"
   ]
  },
  {
   "cell_type": "markdown",
   "id": "07f37c5b",
   "metadata": {},
   "source": [
    "Remarque : \n",
    "- Beaucoup de recettes ont plus de 20 étapes, ce qui semble excessif. Cela peut être dû à des erreurs dans les données ou à des recettes très complexes."
   ]
  },
  {
   "cell_type": "markdown",
   "id": "8b485f70",
   "metadata": {},
   "source": [
    "Faire le tri des outliers"
   ]
  },
  {
   "cell_type": "code",
   "execution_count": null,
   "id": "2121edea",
   "metadata": {},
   "outputs": [
    {
     "name": "stdout",
     "output_type": "stream",
     "text": [
      "n_steps min: 0\n",
      "n_steps max: 145\n",
      "Nombre de recettes avec 0 n_steps: 1\n",
      "Instructions de la recette avec 0 n_steps: ['[]']\n",
      "Instructions de la recette avec 145 n_steps: [\"['white bread:', 'lightly spooning flour into measuring cup & leveling off , measure out 2 1 / 2 cups flour', 'combine flour , dry yeast , sugar , & salt in a large mixer bowl', 'blend', 'in a medium saucepan , combine water , milk , and oil', 'heat until very warm', 'add eggs and liquid to flour mixture', 'mixing - blend at low speed until moistened', 'beat 3 minutes at medium speed', 'with a wooden spoon , stir in an additional 3 to 3-1 / 2 cups of flour to form a sticky dough', 'in bowl or on a floured board , gradually work in 1 / 2 to 1-1 / 2 cups more flour , kneading or working in with hands until dough is smooth , pliable and no longer sticky', 'rising - place dough in a greased bowl', 'cover with a cloth or loose fit lid', 'let rise in a warm place until light and double in size , about 45 minutes', 'shaping & baking:punch down dough to remove air bubbles', 'divide dough into two parts', 'from dough into desired shapes', 'place in greased pans according to shaping and baking directions', 'cover , let rise in a warm place until light and doubled in size , about 30 minutes', 'bake at 375f according to shape until loaf sounds hollow when lightly tapped', 'immediately remove from pans', 'cool', 'whole wheat bread -', 'follow white bread recipe', 'after beating with mixer , stir in 3 cups of whole wheat flour in stead of white , knead in 3 / 4 to 1-1 / 4 cups white flour', 'medium rye bread -', 'follow white bread recipe', 'after beating with mixer , stir in 3 cups medium rye flour instead of white flour', 'knead in 1-1 / 4 to 1-3 / 4 cups white flour', 'rye dough should not completely double in size', 'add 1 tbsp freshly crushed caraway seeds with rye flour', 'decrease the first rising periods by 15 minutes each', '-----', 'ingredient variations', 'ingredients stirred in are added with the flour as it is stirred inches', 'honey / molasses: substitute 1 / 4 cup for sugar', 'reduce milk to 3 / 4 cup', 'brown sugar: substitute 1 / 4 cup for the white sugar', 'rolled oats: stir in 1 / 2 cup', 'wheat germ: stir in 1 / 2 cup', 'cheese: stir in 1 cup shredded cheddar , american , monterey jack or swiss cheese', 'herbs & spices: stir in 1 / 4 to 1 / 2 tsp celery seed or dill weed , or 1 / 2 tsp italian seasoning , or 2 tbsp minced chives , caraway or sesame seeds', 'onion: stir in 1 / 2 cup , finely chopped', 'raisins / chopped dates or other dried fruit: use sweet dough recipe', 'stir in 1-1 / 2 cups fruit', '-----', 'specialty white bread variations -', 'french bread: reduce sugar to 1 tbsp', 'omit milk and eggs', 'use 2 cups water', 'reduce stirred in flour to 1-1 / 2 to 2 cups', 'increase first rise to 1 hour', 'shape and bake according to shaping and baking directions', 'french loaf or rolls: brush with beaten egg just before baking', '-----', 'rich egg bread - increase sugar to 1 / 3 cup', 'decrease water to 3 / 4 cup', 'use 3 eggs', '-----', 'south of the border loaf - decrease sugar to 1 tablespoons decrease milk to 1 / 2 cup', 'increase stirred in flour to 3-1 / 2 to 4 cups', 'with this flour , stir in the following: 1 / 2 cup sour cream , 1 / 2 cup chopped olives , 1 / 2 cup chopped onion , 1 cup shredded cheddar or monterey jack cheese , 1 / 4 tsp garlic powder , 1 to 4 tbsp minced green chilies', 'shape and bake according to directions for regular or round loaves , or rolls', '-----', 'sweet dough - increase sugar to 1 / 2 cup', 'eliminate water', 'use 2 cups milk', 'substitute butter or margarine for oil', 'cinnamon swirl - pat each half of dough into a 7x14-inch rectangle', 'spread with 1 tbsp butter or margarine', 'combine 1 / 2 cup sugar and 2 tbsp cinnamon', 'sprinkle half of mixture over each rectangle', 'starting with the 7-inch side , roll jelly-roll style', 'seal all edges tightly', 'shape and bake according to instructions for a regular loaf', '-----', 'specialty dark bread variations -', 'delicatessen rye bread - (use basic med-rye recipe} omit sugar , water and 1 egg', 'for warm liquid , heat 1-3 / 4 cups milk , 1 / 4 cup molasses , 1 / 4 cup cooking oil and 1 square unsweetened chocolate', 'along with stirred in flour at 1 tbsp caraway seed stir in 1 / 4 to 1 cup white flour with the rye flour', 'do let the dough to rise until double', 'increase first rise to about 1 hour and the second to about 40 minutes', 'increase the baking temperature to 400f', 'bake loaves 30-40 minutes', 'hearty whole wheat loaves - substitute 1 / 4 cup brown sugar for the white sugar', 'along with the stirred in flour add 1 / 2 cup each wheat germ and rolled oats and 2 tbsp sesame seeds', 'decrease kneaded in white flour to 1 / 4 to 3 / 4 cup', 'increase first rise to about 1 hour', 'light pumpernickel bread - eliminate sugar', 'decrease water to 3 / 4 cup', 'heat 1 / 4 cup molasses with other liquids', 'along with stirred in flour add 2 tbsp caraway seeds', '100% whole wheat bread - eliminate white flour', 'stir in 3 to 3-1 / 2 cups whole wheat flour', 'knead in a further 1 / 2 to 1-1 / 2 cups whole wheat flour', '----------------------', 'shaping and baking: use half of dough to make each shape', 'using solid shortening , generously grease pans', 'if desired , just before baking , slash top of loaf in any design using a sharp knife', 'bake breads at 375f: [u]all loaves[ / u] - 35 to 45 minutes or until loaf sounds hollow when lightly tapped', 'all rolls - 10 to 20 minutes', 'regular loaf: use a 9x5 or 8x4-inch loaf pan', 'press dough into pan', 'insert fingers between pan and dough to round edges', 'round loaf: use an 8 or 9-inch round cake pan , 1-1 / 2 quart round casserole or cookie sheet', 'form dough into round ball', 'flatten slightly', 'french & oblong loaf:', 'french: form dough into 14-inch loaf', 'taper ends', 'oblong: form dough into 8 to 10-inch oblong loaf', 'round ends', 'rope shaped loaves: shape half of dough into a 26-inch rope', 'form into any desired shape described below', 'coil: use 8 or 9-inch round cake pan , 1-1 / 2 quart round casserole or cookie sheet', 'beginning at center of loaf , roll rope into snail shape', 'tuck tail under', 'twist: use a 9x5 or 8x4-inch loaf pan or cookie sheet', 'cut rope in half to form two 13-inch ropes', 'twist together', 'seal ends', 'figure eight: use a 9x5 or 8x4-inch loaf pan or cookie sheet', 'form rope into figure-eight', 'seal ends', 'doughnut: use cookie sheet', 'form circle by bringing ends of rope together', 'seal', 'flatten circle to 1-1 / 2 inch thickness', 'rolls -', 'round: form dough into 12 2-inch balls', 'vienna: from dough into eight 6-inch oval rolls', 'flatten slightly', 'breadsticks: cut dough into walnut size pieces', 'roll with hands into 5-inch sticks', 'bread glazes - use any of the following glazes to create different crusts', 'soft buttery crusts: brush loaves with softened or melted butter or margarine after baking', 'crisp shiny crust: brush loaves with a mixture of 1 egg and 1 tbsp water just before baking', 'may be sprinkled with poppy or sesame seed', 'delicatessen crust: remove loaves from oven 5 minutes before done', 'brush with a mixture of 1 / 2 tsp cornstarch and 1 / 4 cup water that has been heated to boiling', 'return to oven to finish baking', 'cinnamon / sugar crust: brush loaves with 2 tbsp melted butter or margarine', 'sprinkle with mixture of 2 tbsp sugar and 1 / 2 tsp cinnamon after baking', 'slightly crisp , shiny sweet crust: brush loaves with a mixture of 1 tbsp each of sugar and water after baking', 'from:']\"]\n"
     ]
    }
   ],
   "source": [
    "# Afficher le n_steps minimum, maximum\n",
    "print(\"n_steps min:\", recipe['n_steps'].min())\n",
    "print(\"n_steps max:\", recipe['n_steps'].max())\n",
    "# Afficher le nombre de recettes avec 0 n_steps\n",
    "print(\"Nombre de recettes avec 0 n_steps:\", recipe[recipe['n_steps'] == 0].shape[0])\n",
    "# Afficher les instructions de la recette avec 0 n_steps\n",
    "print(\"Instructions de la recette avec 0 n_steps:\", recipe[recipe['n_steps'] == 0]['steps'].values)\n",
    "# Afficher les instructions de la recette avec 145 n_steps\n",
    "print(\"Instructions de la recette avec 145 n_steps:\", recipe[recipe['n_steps'] == 145]['steps'].values)"
   ]
  },
  {
   "cell_type": "markdown",
   "id": "2b68b6dd",
   "metadata": {},
   "source": [
    "Nous allons supprimer la recette avec 0 instruction mais conserver les recettes avec beaucoup d'étape. Comme nous pouvons le voir pour la recette avec 145 étapes, il y a très peu de mots par étape."
   ]
  },
  {
   "cell_type": "code",
   "execution_count": null,
   "id": "07320f1b",
   "metadata": {},
   "outputs": [
    {
     "name": "stdout",
     "output_type": "stream",
     "text": [
      "(221813, 6)\n"
     ]
    }
   ],
   "source": [
    "# Supprimer la recette avec 0 n_steps\n",
    "recipe = recipe[recipe['n_steps'] != 0]\n",
    "# Sauvegarder le dataset nettoyé\n",
    "recipe.to_csv(\"recipe/5_recipe_cleaned_without_0_steps.csv\", index=False)\n",
    "# Charger le dataset nettoyé\n",
    "recipe = pd.read_csv(\"recipe/5_recipe_cleaned_without_0_steps.csv\")\n",
    "print(recipe.shape)"
   ]
  },
  {
   "cell_type": "markdown",
   "id": "3b16148e",
   "metadata": {},
   "source": [
    "Plutôt que d'utiliser le nombre d'étapes pour une recette (avec les aberrations que l'on a pu observer), nous pourrions envisager d'utiliser le nombre moyen de mots par étape pour chaque recette comme une mesure plus précise de la complexité des instructions. Cela pourrait mieux refléter l'effort requis pour suivre la recette. En effet, une recette avec moins d'étapes mais des instructions détaillées pourrait être plus complexe qu'une recette avec de nombreuses étapes mais des instructions succinctes."
   ]
  },
  {
   "cell_type": "code",
   "execution_count": 12,
   "id": "9003fb41",
   "metadata": {},
   "outputs": [
    {
     "name": "stdout",
     "output_type": "stream",
     "text": [
      "Statistiques de la complexité des instructions:\n",
      "  • Moyenne générale: 10.4 mots/étape\n",
      "  • Médiane: 10.0 mots/étape\n",
      "  • Min-Max: 1.0 - 144.0\n"
     ]
    }
   ],
   "source": [
    "# Calcul de la moyenne du nombre de mots par étape\n",
    "def calculate_avg_words_per_step(steps_text):\n",
    "    \"\"\"Calcule la moyenne du nombre de mots par étape\"\"\"\n",
    "    try:\n",
    "        # Convertir la chaîne en liste si nécessaire\n",
    "        if isinstance(steps_text, str):\n",
    "            steps_list = ast.literal_eval(steps_text)\n",
    "        else:\n",
    "            steps_list = steps_text\n",
    "            \n",
    "        # Compter les mots pour chaque étape\n",
    "        word_counts = [len(step.split()) for step in steps_list]\n",
    "        \n",
    "        # Retourner la moyenne\n",
    "        return np.mean(word_counts) if word_counts else 0\n",
    "    except:\n",
    "        return 0\n",
    "\n",
    "# Appliquer le calcul\n",
    "recipe['avg_words_per_step'] = recipe['steps'].apply(calculate_avg_words_per_step)\n",
    "\n",
    "print(\"Statistiques de la complexité des instructions:\")\n",
    "print(f\"  • Moyenne générale: {recipe['avg_words_per_step'].mean():.1f} mots/étape\")\n",
    "print(f\"  • Médiane: {recipe['avg_words_per_step'].median():.1f} mots/étape\")\n",
    "print(f\"  • Min-Max: {recipe['avg_words_per_step'].min():.1f} - {recipe['avg_words_per_step'].max():.1f}\")"
   ]
  },
  {
   "cell_type": "code",
   "execution_count": null,
   "id": "f56e9b96",
   "metadata": {},
   "outputs": [
    {
     "name": "stdout",
     "output_type": "stream",
     "text": [
      "Moyenne de mots par étape de la recette avec 145 n_steps: [9.53793103]\n"
     ]
    }
   ],
   "source": [
    "# Afficher la moyenne de mots par étape de la recette avec 145 n_steps\n",
    "print(\"Moyenne de mots par étape de la recette avec 145 n_steps:\", recipe[recipe['n_steps'] == 145]['avg_words_per_step'].values)"
   ]
  },
  {
   "cell_type": "markdown",
   "id": "2aecf282",
   "metadata": {},
   "source": [
    "Nous pouvons proposer une nouvelle variable qui catégorise les instructions en fonction de la moyenne de mots par étape: Simple, Moyennement complexe, Complexe.\n",
    "\n",
    "Nous allons pour faire cette catégorisation nous appuyer sur les percentiles (ce qui permet de diviser les données en portions égales basées sur la distribution réelle)."
   ]
  },
  {
   "cell_type": "code",
   "execution_count": null,
   "id": "90b3576b",
   "metadata": {},
   "outputs": [
    {
     "name": "stdout",
     "output_type": "stream",
     "text": [
      "SEUILS CALCULÉS:\n",
      "   • Simple: < 8.7 mots/étape\n",
      "   • Moyennement complexe: 8.7 - 11.4 mots/étape\n",
      "   • Complexe: > 11.4 mots/étape\n",
      "\n",
      "RÉPARTITION RÉSULTANTE:\n",
      "   • Moyennement complexe: 75,677 recettes (34.1%)\n",
      "   • Complexe: 73,599 recettes (33.2%)\n",
      "   • Simple: 72,537 recettes (32.7%)\n"
     ]
    }
   ],
   "source": [
    "def categorize_complexity_percentiles(recipe_data):\n",
    "    \"\"\"Catégorisation basée sur les percentiles des données\"\"\"\n",
    "    \n",
    "    # Calculer les seuils basés sur les percentiles\n",
    "    q33 = recipe_data['avg_words_per_step'].quantile(0.33)\n",
    "    q67 = recipe_data['avg_words_per_step'].quantile(0.67)\n",
    "    \n",
    "    def assign_category(avg_words):\n",
    "        if avg_words < q33:\n",
    "            return 'Simple'\n",
    "        elif q33 <= avg_words < q67:\n",
    "            return 'Moyennement complexe'\n",
    "        else:\n",
    "            return 'Complexe'\n",
    "    \n",
    "    # Appliquer la catégorisation avec le nouveau nom\n",
    "    recipe_data['steps_complexity'] = recipe_data['avg_words_per_step'].apply(assign_category)\n",
    "    \n",
    "    print(f\"SEUILS CALCULÉS:\")\n",
    "    print(f\"   • Simple: < {q33:.1f} mots/étape\")\n",
    "    print(f\"   • Moyennement complexe: {q33:.1f} - {q67:.1f} mots/étape\")\n",
    "    print(f\"   • Complexe: > {q67:.1f} mots/étape\")\n",
    "    \n",
    "    return recipe_data\n",
    "\n",
    "# Appliquer la méthode\n",
    "recipe = categorize_complexity_percentiles(recipe)\n",
    "\n",
    "# Vérifier la répartition avec le nouveau nom\n",
    "complexity_counts = recipe['steps_complexity'].value_counts()\n",
    "print(f\"\\nRÉPARTITION RÉSULTANTE:\")\n",
    "for cat, count in complexity_counts.items():\n",
    "    percentage = (count / len(recipe)) * 100\n",
    "    print(f\"   • {cat}: {count:,} recettes ({percentage:.1f}%)\")"
   ]
  },
  {
   "cell_type": "markdown",
   "id": "52b0acc2",
   "metadata": {},
   "source": [
    "Nous avons créé deux nouvelles variables : `avg_words_per_step` et `steps_complexity`"
   ]
  },
  {
   "cell_type": "markdown",
   "id": "bbcafe85",
   "metadata": {},
   "source": [
    "A discuter : est ce qu'on estime nous même ce qui est une recette simple, moyenne et complexe ou est-ce que cette variable est défini par nos données et donc chaque catégorie a le même nombre de recette."
   ]
  },
  {
   "cell_type": "code",
   "execution_count": null,
   "id": "9afa2c5d",
   "metadata": {},
   "outputs": [],
   "source": [
    "# Sauvegarder le nouveau dataset\n",
    "#recipe = categorize_complexity_percentiles(recipe)\n",
    "#recipe.to_csv(\"recipe/6_recipe_with_steps_complexity.csv\", index=False)"
   ]
  }
 ],
 "metadata": {
  "kernelspec": {
   "display_name": "Python 3",
   "language": "python",
   "name": "python3"
  },
  "language_info": {
   "codemirror_mode": {
    "name": "ipython",
    "version": 3
   },
   "file_extension": ".py",
   "mimetype": "text/x-python",
   "name": "python",
   "nbconvert_exporter": "python",
   "pygments_lexer": "ipython3",
   "version": "3.11.9"
  }
 },
 "nbformat": 4,
 "nbformat_minor": 5
}
